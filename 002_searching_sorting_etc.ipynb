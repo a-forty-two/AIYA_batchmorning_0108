{
  "nbformat": 4,
  "nbformat_minor": 0,
  "metadata": {
    "colab": {
      "name": "002 searching sorting etc.ipynb",
      "provenance": [],
      "authorship_tag": "ABX9TyNmfXhY/730dDAm8S1IElbk",
      "include_colab_link": true
    },
    "kernelspec": {
      "name": "python3",
      "display_name": "Python 3"
    },
    "language_info": {
      "name": "python"
    }
  },
  "cells": [
    {
      "cell_type": "markdown",
      "metadata": {
        "id": "view-in-github",
        "colab_type": "text"
      },
      "source": [
        "<a href=\"https://colab.research.google.com/github/a-forty-two/AIYA_batchmorning_0108/blob/main/002_searching_sorting_etc.ipynb\" target=\"_parent\"><img src=\"https://colab.research.google.com/assets/colab-badge.svg\" alt=\"Open In Colab\"/></a>"
      ]
    },
    {
      "cell_type": "code",
      "metadata": {
        "id": "YnOr5_jJH_Ks"
      },
      "source": [
        "# Linear Search\n",
        "# Where you apply the most obvious (but most likely the least-optimized) way of doing things\n",
        "# Looking at items one by one\n",
        "# Brute Force Approach \n",
        "\n",
        "# Yesterday-> calculating prime numbers\n",
        "# brute force-> loop from 1 to n\n",
        "# optimization-> loop from 1 to n/2 \n",
        "\n",
        "# Brute Force, Divide and Conquer, Greedy, Incomplete "
      ],
      "execution_count": 1,
      "outputs": []
    },
    {
      "cell_type": "code",
      "metadata": {
        "id": "RdX0dCdgJOhi"
      },
      "source": [
        "# Algorithm's complexity/ Cost \n",
        "# 2 factors: Time (how much time does it take?), Memory (how much space?)\n",
        "\n",
        "# Linear Search-> counting elements one-by-one (Brute Force)\n",
        "# Binary Search-> break the dataset into 2 smaller datasets and search (divide-and-conquer)\n"
      ],
      "execution_count": 2,
      "outputs": []
    },
    {
      "cell_type": "code",
      "metadata": {
        "colab": {
          "base_uri": "https://localhost:8080/"
        },
        "id": "IlhqdY00Jx4k",
        "outputId": "d74d1724-17fb-44b8-fcb2-02847b590814"
      },
      "source": [
        "# generate random numbers\n",
        "# begin with empty list\n",
        "import random\n",
        "data = []\n",
        "# generate 100 numbers and insert them into the list\n",
        "for i in range(100):\n",
        "  rn = random.randint(1,100) # generated random numbers between 1 to 100\n",
        "  data.append(rn)\n",
        "  # data.append(random.randint(1,100)) # does the same thing in 1 line\n",
        "\n",
        "print(data)"
      ],
      "execution_count": 10,
      "outputs": [
        {
          "output_type": "stream",
          "name": "stdout",
          "text": [
            "[96, 6, 92, 35, 52, 89, 25, 15, 59, 8, 15, 45, 74, 5, 49, 35, 52, 92, 42, 11, 45, 76, 90, 66, 72, 67, 40, 22, 33, 31, 16, 5, 90, 59, 71, 95, 1, 40, 60, 83, 50, 11, 56, 92, 18, 60, 65, 93, 86, 72, 69, 6, 34, 65, 3, 25, 49, 69, 61, 16, 48, 93, 16, 48, 66, 16, 86, 75, 67, 14, 87, 19, 17, 48, 76, 72, 96, 5, 90, 77, 71, 9, 29, 39, 22, 25, 49, 55, 100, 23, 4, 63, 1, 47, 36, 74, 59, 10, 76, 88]\n"
          ]
        }
      ]
    },
    {
      "cell_type": "code",
      "metadata": {
        "id": "--NOU-hsRZVA"
      },
      "source": [
        "### Original \n",
        "\n",
        "\n",
        "element = int(input(\"Enter an element to search ... \"))\n",
        "elementFound = False\n",
        "for i in data:\n",
        "  if(i == element):\n",
        "    elementFound = True\n",
        "    break\n",
        "\n",
        "if(elementFound):\n",
        "  print('Element Found')\n",
        "else:\n",
        "  print('Element not found')\n",
        "\n"
      ],
      "execution_count": null,
      "outputs": []
    },
    {
      "cell_type": "code",
      "metadata": {
        "colab": {
          "base_uri": "https://localhost:8080/"
        },
        "id": "QB2vJJucLje9",
        "outputId": "aee6a405-2d27-4c27-8166-29128a4a70d4"
      },
      "source": [
        "# problem statement: modify this program to also print how much TIME does it\n",
        "# take to execute the search \n",
        "\n",
        "element = int(input(\"Enter an element to search ... \"))\n",
        "import time\n",
        "begintime = time.time()\n",
        "elementFound = False  \n",
        "for i in data:\n",
        "  if(i == element):\n",
        "    elementFound = True\n",
        "    break\n",
        "\n",
        "# Total time of algorithm -> entire process\n",
        "# Optimizing my algo-> calculation-> starting from house \n",
        "\n",
        "\n",
        "endtime= time.time()\n",
        "print('Time Taken='+ str( (endtime-begintime)*1000 ) + \" seconds\")\n",
        "if(elementFound):\n",
        "  print('Element Found')\n",
        "else:\n",
        "  print('Element not found')\n",
        "\n"
      ],
      "execution_count": 14,
      "outputs": [
        {
          "output_type": "stream",
          "name": "stdout",
          "text": [
            "Enter an element to search ... 42\n",
            "Time Taken=0.08893013000488281 seconds\n",
            "Element Found\n"
          ]
        }
      ]
    },
    {
      "cell_type": "code",
      "metadata": {
        "id": "YHHIkvhWNJ9H"
      },
      "source": [
        ""
      ],
      "execution_count": 12,
      "outputs": []
    },
    {
      "cell_type": "code",
      "metadata": {
        "id": "HiYC-XP8NS4p"
      },
      "source": [
        "# problem statement: modify this program to also print the location of element found!\n"
      ],
      "execution_count": null,
      "outputs": []
    }
  ]
}